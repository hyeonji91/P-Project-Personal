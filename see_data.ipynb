{
 "cells": [
  {
   "cell_type": "code",
   "execution_count": 3,
   "id": "initial_id",
   "metadata": {
    "collapsed": true,
    "ExecuteTime": {
     "end_time": "2024-12-18T12:30:18.076555Z",
     "start_time": "2024-12-18T12:30:16.343216Z"
    }
   },
   "outputs": [
    {
     "data": {
      "text/plain": "한국어\n0                      20\n중구                     20\n종로구                    20\n조난                     20\n제초제                    20\n                       ..\n노원구                    20\n냄새나다                   20\n내일                     20\n내년                     20\n엄마가 신장병에 있는데 쓰러지셨어요    20\nName: count, Length: 524, dtype: int64"
     },
     "execution_count": 3,
     "metadata": {},
     "output_type": "execute_result"
    }
   ],
   "source": [
    "import pandas as pd\n",
    "\n",
    "\n",
    "# label읽기\n",
    "df = pd.read_excel('F:/HyeonjiKim/Downloads/signLanguageDataset/KETI-2017-SL-Annotation-v2_1.xlsx')\n",
    "df.sort_values(by = '번호', ascending=True, inplace=True)"
   ]
  },
  {
   "cell_type": "code",
   "outputs": [
    {
     "data": {
      "text/plain": "한국어\n0       8\n43      8\n49      8\n48      8\n47      8\n       ..\n도둑      7\n대문앞     7\n달(월)    7\n다음      7\n화재      7\nName: count, Length: 419, dtype: int64"
     },
     "execution_count": 4,
     "metadata": {},
     "output_type": "execute_result"
    }
   ],
   "source": [
    "df = df.iloc[:3000]\n",
    "df['한국어'].value_counts()"
   ],
   "metadata": {
    "collapsed": false,
    "ExecuteTime": {
     "end_time": "2024-12-18T12:31:14.087685Z",
     "start_time": "2024-12-18T12:31:14.073687Z"
    }
   },
   "id": "d8d03c6b5a14dbbc",
   "execution_count": 4
  },
  {
   "cell_type": "code",
   "outputs": [],
   "source": [],
   "metadata": {
    "collapsed": false
   },
   "id": "43e06991d5f2fe3"
  }
 ],
 "metadata": {
  "kernelspec": {
   "display_name": "Python 3",
   "language": "python",
   "name": "python3"
  },
  "language_info": {
   "codemirror_mode": {
    "name": "ipython",
    "version": 2
   },
   "file_extension": ".py",
   "mimetype": "text/x-python",
   "name": "python",
   "nbconvert_exporter": "python",
   "pygments_lexer": "ipython2",
   "version": "2.7.6"
  }
 },
 "nbformat": 4,
 "nbformat_minor": 5
}
